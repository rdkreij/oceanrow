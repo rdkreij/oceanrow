{
 "cells": [
  {
   "cell_type": "code",
   "execution_count": 25,
   "id": "b3ce185a-ba33-4efa-933e-c3b1d2d19b79",
   "metadata": {},
   "outputs": [],
   "source": [
    "# import ocean row module\n",
    "from mod_ocean_row import ocean_row, parameter_sweeper\n",
    "\n",
    "from monte_carlo import boat, ocean, State, Action\n",
    "\n",
    "import plt_utils\n",
    "import random\n",
    "\n",
    "import xarray as xr\n",
    "from collections import namedtuple, deque\n",
    "# # reload package\n",
    "import importlib\n",
    "import mod_ocean_row\n",
    "import monte_carlo\n",
    "importlib.reload(mod_ocean_row)\n",
    "importlib.reload(monte_carlo)\n",
    "importlib.reload(plt_utils)\n",
    "from mod_ocean_row import ocean_row"
   ]
  },
  {
   "cell_type": "code",
   "execution_count": 26,
   "id": "d3b3a5c0-ac02-4f1a-bb98-88d14d1e0ccf",
   "metadata": {},
   "outputs": [],
   "source": [
    "def create_config():\n",
    "    # create dictionary of starting location\n",
    "    # Dsloc = {'start_name':'Fremantle'    ,'start_lat':-32.056946,'start_lon':115.743889}\n",
    "    # Dsloc = {'start_name':'Geraldton'    ,'start_lat':-28.782387,'start_lon':114.607513} \n",
    "    Dsloc = {'start_name':'Kalbarri'     ,'start_lat':-27.711053,'start_lon':114.164536} \n",
    "    # Dsloc = {'start_name':'Carnarvon'    ,'start_lat':-24.883717,'start_lon':113.656956} \n",
    "    # Dsloc = {'start_name':'Exmouth'      ,'start_lat':-21.930724,'start_lon':114.122389} \n",
    "    # Dsloc = {'start_name':'Broome'       ,'start_lat':-17.951221,'start_lon':122.244327} \n",
    "\n",
    "    # create dictionary of destination location\n",
    "    Deloc = {'stop_name':'Dar es Salaam' ,'stop_lat':-6.766305  ,'stop_lon':39.195973  } # create dictionary of destination location\n",
    "\n",
    "    # date and time\n",
    "    tod_0     = '2018-05-01 03:00:00' # starting datetime\n",
    "    tod_start = ['06:00:00','14:00:00'] # start rowing [time of day]\n",
    "    tod_stop  = ['12:00:00','20:00:00'] # stop rowing [time of day]\n",
    "    Dtime     = {'tod_0':tod_0,'tod_start':tod_start,'tod_stop':tod_stop} # create dictionary\n",
    "\n",
    "    # rowing properties\n",
    "    m     = 670 # wiegth [kg]\n",
    "\n",
    "    # convert m/s to kts\n",
    "    tokts = 1.94384449 # convert m/s to kts\n",
    "\n",
    "    # rowing speed perfect conditions\n",
    "    vperf = 1.7/tokts # boat velocity in perfect conditions [m/s]\n",
    "\n",
    "    # water friction - boat\n",
    "    rhow  = 1024 # density water [kg/m^3]\n",
    "    Aw    = 15 # frontal area exposed to water\n",
    "    Cdw   = 0.005 # friction coef. water \n",
    "    Gw    = rhow*Cdw*Aw/2 # water friction constant\n",
    "\n",
    "    # water friction - anchor\n",
    "    GwA   = 50*Gw # water friction constant sea anchor\n",
    "\n",
    "    # friction ratio boat\n",
    "    G     = .01 # ratio of air friction cosntant to water friction constant (Ga/Gw)\n",
    "\n",
    "    # air friction \n",
    "    Ga    = G*Gw # air friction constant\n",
    "\n",
    "    Drow_prop = {'m':m,'vperf':vperf,'Gw':Gw,'GwA':GwA,'Ga':Ga} # create dictionary of all rowing properties\n",
    "\n",
    "    # combine all configurations\n",
    "    mcf = Dsloc | Deloc | Drow_prop | Dtime # model configuration (as dictionary)\n",
    "    return mcf\n",
    "\n",
    "def load_hindcast():\n",
    "\n",
    "    # air velocity (wind)\n",
    "    dsa0 = xr.open_dataset(r'./Data/CERSAT-GLO-REP_WIND_L4-OBS_FULL_TIME_SERIE_1648775425193.nc').load()\n",
    "    dsa  = xr.Dataset(\n",
    "        data_vars=dict(\n",
    "            # correct wind dataset (wrong direction of winds)\n",
    "            ua  = ([\"time\", \"lat\", \"lon\"], dsa0.eastward_wind.isel(depth=0).values),\n",
    "            va  = ([\"time\", \"lat\", \"lon\"], dsa0.northward_wind.isel(depth=0).values)),\n",
    "        coords=dict(\n",
    "            lon  = dsa0.longitude.values,\n",
    "            lat  = dsa0.latitude.values,\n",
    "            time = dsa0.time.values))\n",
    "\n",
    "    # water velocity (currents)\n",
    "    dsw0 = xr.open_dataset(r'./Data/nemo_monthly_mean.nc').load()\n",
    "    dsw  = xr.Dataset(\n",
    "        data_vars=dict(\n",
    "            uw  = ([\"time\", \"lat\", \"lon\"], dsw0.uo.isel(depth=0).values),\n",
    "            vw  = ([\"time\", \"lat\", \"lon\"], dsw0.vo.isel(depth=0).values),\n",
    "            Tw  = ([\"time\", \"lat\", \"lon\"], dsw0.thetao.isel(depth=0).values)),\n",
    "        coords=dict(\n",
    "            lon  = dsw0.longitude.values,\n",
    "            lat  = dsw0.latitude.values,\n",
    "            time = dsw0.time.values))\n",
    "\n",
    "    # wave heights \n",
    "    dswh0 = xr.open_dataset(r'./Data/cmems_obs-wave_glo_phy-swh_my_multi-l4-2deg_P1D_1648776708969.nc').load()\n",
    "    dswh  = xr.Dataset(\n",
    "        data_vars=dict(\n",
    "            # correct wind dataset (wrong direction of winds)\n",
    "            H_day_mean = ([\"time\", \"lat\", \"lon\"], dswh0.VAVH_DAILY_MEAN.values),\n",
    "            H_day_max  = ([\"time\", \"lat\", \"lon\"], dswh0.VAVH_DAILY_MAX.values)),\n",
    "        coords=dict(\n",
    "            lon  = dswh0.longitude.values,\n",
    "            lat  = dswh0.latitude.values,\n",
    "            time = dswh0.time.values))\n",
    "\n",
    "    hc = {'dsa':dsa,'dsw':dsw,'dswh':dswh} # create single dictonary of all datasets\n",
    "    return hc\n",
    "\n",
    "\n"
   ]
  },
  {
   "cell_type": "code",
   "execution_count": 27,
   "id": "29402a5a-cbb4-43d9-8792-c2eeebf00b18",
   "metadata": {},
   "outputs": [],
   "source": [
    "mcf = create_config()\n",
    "hc = load_hindcast()"
   ]
  },
  {
   "cell_type": "code",
   "execution_count": 28,
   "id": "c8b95d4c-d07d-461f-b05f-beb9aa7cc1fd",
   "metadata": {},
   "outputs": [],
   "source": [
    "import numpy as np"
   ]
  },
  {
   "cell_type": "code",
   "execution_count": 29,
   "id": "27cf56ff-8af6-4407-8fd5-227dab699bad",
   "metadata": {},
   "outputs": [],
   "source": [
    "domain = mod_ocean_row.ocean_row.create_domain()\n",
    "b = boat(4, 100, 6, 20, 2, mcf['start_lat'], mcf['start_lon'])\n",
    "oce = ocean(hc, domain, np.datetime64('2018-05-01 03:00:00'), (40, 40), b)\n",
    "mc = monte_carlo.MonteCarlo(oce)"
   ]
  },
  {
   "cell_type": "code",
   "execution_count": 30,
   "id": "7ee31c16-ff7a-418c-a739-b0cc16dddb14",
   "metadata": {},
   "outputs": [
    {
     "data": {
      "text/plain": [
       "{'start_name': 'Kalbarri',\n",
       " 'start_lat': -27.711053,\n",
       " 'start_lon': 114.164536,\n",
       " 'stop_name': 'Dar es Salaam',\n",
       " 'stop_lat': -6.766305,\n",
       " 'stop_lon': 39.195973,\n",
       " 'm': 670,\n",
       " 'vperf': 0.8745555566536086,\n",
       " 'Gw': 38.4,\n",
       " 'GwA': 1920.0,\n",
       " 'Ga': 0.384,\n",
       " 'tod_0': '2018-05-01 03:00:00',\n",
       " 'tod_start': ['06:00:00', '14:00:00'],\n",
       " 'tod_stop': ['12:00:00', '20:00:00']}"
      ]
     },
     "execution_count": 30,
     "metadata": {},
     "output_type": "execute_result"
    }
   ],
   "source": [
    "mcf\n"
   ]
  },
  {
   "cell_type": "code",
   "execution_count": 31,
   "id": "7bcd957b",
   "metadata": {},
   "outputs": [],
   "source": [
    "from tqdm import tqdm"
   ]
  },
  {
   "cell_type": "code",
   "execution_count": 32,
   "id": "18a4e8c9",
   "metadata": {},
   "outputs": [],
   "source": [
    "ds = []\n",
    "trajs = []"
   ]
  },
  {
   "cell_type": "code",
   "execution_count": 33,
   "id": "4186b085",
   "metadata": {},
   "outputs": [
    {
     "name": "stderr",
     "output_type": "stream",
     "text": [
      "  0%|          | 0/10 [00:02<?, ?it/s]\n"
     ]
    },
    {
     "ename": "KeyboardInterrupt",
     "evalue": "",
     "output_type": "error",
     "traceback": [
      "\u001b[0;31m---------------------------------------------------------------------------\u001b[0m",
      "\u001b[0;31mKeyboardInterrupt\u001b[0m                         Traceback (most recent call last)",
      "Cell \u001b[0;32mIn [33], line 6\u001b[0m\n\u001b[1;32m      4\u001b[0m \u001b[39mfor\u001b[39;00m j \u001b[39min\u001b[39;00m \u001b[39mrange\u001b[39m(\u001b[39m2000\u001b[39m):\n\u001b[1;32m      5\u001b[0m     a \u001b[39m=\u001b[39m random\u001b[39m.\u001b[39mchoice(oce\u001b[39m.\u001b[39mlegal_moves([]))\n\u001b[0;32m----> 6\u001b[0m     r, s_new \u001b[39m=\u001b[39m oce\u001b[39m.\u001b[39;49mnext_state(s, a)\n\u001b[1;32m      8\u001b[0m     sars \u001b[39m=\u001b[39m [s, a, r, s_new]\n\u001b[1;32m      9\u001b[0m     rollout\u001b[39m.\u001b[39mappend(sars)\n",
      "File \u001b[0;32m~/projects/academy/amsi/oceanrow/monte_carlo.py:215\u001b[0m, in \u001b[0;36mocean.next_state\u001b[0;34m(self, s, action)\u001b[0m\n\u001b[1;32m    212\u001b[0m phi \u001b[39m=\u001b[39m action\u001b[39m.\u001b[39mphi\n\u001b[1;32m    214\u001b[0m \u001b[39m# Calculate the velocity applied to the boat\u001b[39;00m\n\u001b[0;32m--> 215\u001b[0m V \u001b[39m=\u001b[39m \u001b[39mself\u001b[39;49m\u001b[39m.\u001b[39;49msolve_v(s, phi, action\u001b[39m.\u001b[39;49mis_rowing, action\u001b[39m.\u001b[39;49mis_anchored)    \n\u001b[1;32m    217\u001b[0m updated_lon, updated_lat \u001b[39m=\u001b[39m \u001b[39mself\u001b[39m\u001b[39m.\u001b[39mupdate_coordate_with_velocity(s\u001b[39m.\u001b[39mlat, s\u001b[39m.\u001b[39mlon, V, \u001b[39mself\u001b[39m\u001b[39m.\u001b[39mTIMESTEP_SIZE)\n\u001b[1;32m    219\u001b[0m new_state \u001b[39m=\u001b[39m State(s\u001b[39m.\u001b[39mt \u001b[39m+\u001b[39m \u001b[39mself\u001b[39m\u001b[39m.\u001b[39mTIMESTEP_SIZE, updated_lat, updated_lon)    \n",
      "File \u001b[0;32m~/projects/academy/amsi/oceanrow/monte_carlo.py:104\u001b[0m, in \u001b[0;36mocean.solve_v\u001b[0;34m(self, state, angle, row, anc)\u001b[0m\n\u001b[1;32m    103\u001b[0m \u001b[39mdef\u001b[39;00m \u001b[39msolve_v\u001b[39m(\u001b[39mself\u001b[39m, state: State, angle, row, anc):\n\u001b[0;32m--> 104\u001b[0m     vw_all, va_all \u001b[39m=\u001b[39m \u001b[39mself\u001b[39;49m\u001b[39m.\u001b[39;49mget_velocities(state\u001b[39m.\u001b[39;49mt, [[state\u001b[39m.\u001b[39;49mlat], [state\u001b[39m.\u001b[39;49mlon]])\n\u001b[1;32m    106\u001b[0m     Vw \u001b[39m=\u001b[39m vw_all[\u001b[39m0\u001b[39m]\n\u001b[1;32m    107\u001b[0m     Va \u001b[39m=\u001b[39m va_all[\u001b[39m0\u001b[39m]\n",
      "File \u001b[0;32m~/projects/academy/amsi/oceanrow/monte_carlo.py:94\u001b[0m, in \u001b[0;36mocean.get_velocities\u001b[0;34m(self, time, positions)\u001b[0m\n\u001b[1;32m     91\u001b[0m dsw_lon  \u001b[39m=\u001b[39m dsw\u001b[39m.\u001b[39mlon\u001b[39m.\u001b[39mvalues\n\u001b[1;32m     92\u001b[0m dsw_lat  \u001b[39m=\u001b[39m dsw\u001b[39m.\u001b[39mlat\u001b[39m.\u001b[39mvalues\n\u001b[0;32m---> 94\u001b[0m Va_a, Vw_a \u001b[39m=\u001b[39m ocean_row\u001b[39m.\u001b[39;49mget_hindcast_at_loc(np\u001b[39m.\u001b[39;49mreshape(positions, (\u001b[39m1\u001b[39;49m, \u001b[39m2\u001b[39;49m)), time, dsa, dsw, dsa_time, dsa_lon, dsa_lat, dsw_time, dsw_lon, dsw_lat)\n\u001b[1;32m     96\u001b[0m \u001b[39m# set hindcast velocities to zero when no data is available\u001b[39;00m\n\u001b[1;32m     97\u001b[0m Va_a[np\u001b[39m.\u001b[39misnan(Va_a)] \u001b[39m=\u001b[39m \u001b[39m0\u001b[39m\n",
      "File \u001b[0;32m~/projects/academy/amsi/oceanrow/mod_ocean_row.py:616\u001b[0m, in \u001b[0;36mocean_row.get_hindcast_at_loc\u001b[0;34m(X_a, datet, dsa, dsw, dsa_time, dsa_lon, dsa_lat, dsw_time, dsw_lon, dsw_lat)\u001b[0m\n\u001b[1;32m    613\u001b[0m iwlat \u001b[39m=\u001b[39m np\u001b[39m.\u001b[39margmin(np\u001b[39m.\u001b[39mabs(dsw_lat\u001b[39m-\u001b[39mXi[\u001b[39m1\u001b[39m]))\n\u001b[1;32m    615\u001b[0m Va_a[iX,\u001b[39m0\u001b[39m] \u001b[39m=\u001b[39m dsa\u001b[39m.\u001b[39misel(time\u001b[39m=\u001b[39miatime,lon\u001b[39m=\u001b[39mialon,lat\u001b[39m=\u001b[39mialat)\u001b[39m.\u001b[39mua\u001b[39m.\u001b[39mitem()\n\u001b[0;32m--> 616\u001b[0m Va_a[iX,\u001b[39m1\u001b[39m] \u001b[39m=\u001b[39m dsa\u001b[39m.\u001b[39;49misel(time\u001b[39m=\u001b[39;49miatime,lon\u001b[39m=\u001b[39;49mialon,lat\u001b[39m=\u001b[39;49mialat)\u001b[39m.\u001b[39mva\u001b[39m.\u001b[39mitem()\n\u001b[1;32m    617\u001b[0m Vw_a[iX,\u001b[39m0\u001b[39m] \u001b[39m=\u001b[39m dsw\u001b[39m.\u001b[39misel(time\u001b[39m=\u001b[39miwtime,lon\u001b[39m=\u001b[39miwlon,lat\u001b[39m=\u001b[39miwlat)\u001b[39m.\u001b[39muw\u001b[39m.\u001b[39mitem()\n\u001b[1;32m    618\u001b[0m Vw_a[iX,\u001b[39m1\u001b[39m] \u001b[39m=\u001b[39m dsw\u001b[39m.\u001b[39misel(time\u001b[39m=\u001b[39miwtime,lon\u001b[39m=\u001b[39miwlon,lat\u001b[39m=\u001b[39miwlat)\u001b[39m.\u001b[39mvw\u001b[39m.\u001b[39mitem()\n",
      "File \u001b[0;32m~/.local/lib/python3.10/site-packages/xarray/core/dataset.py:2408\u001b[0m, in \u001b[0;36mDataset.isel\u001b[0;34m(self, indexers, drop, missing_dims, **indexers_kwargs)\u001b[0m\n\u001b[1;32m   2406\u001b[0m indexers \u001b[39m=\u001b[39m either_dict_or_kwargs(indexers, indexers_kwargs, \u001b[39m\"\u001b[39m\u001b[39misel\u001b[39m\u001b[39m\"\u001b[39m)\n\u001b[1;32m   2407\u001b[0m \u001b[39mif\u001b[39;00m \u001b[39many\u001b[39m(is_fancy_indexer(idx) \u001b[39mfor\u001b[39;00m idx \u001b[39min\u001b[39;00m indexers\u001b[39m.\u001b[39mvalues()):\n\u001b[0;32m-> 2408\u001b[0m     \u001b[39mreturn\u001b[39;00m \u001b[39mself\u001b[39;49m\u001b[39m.\u001b[39;49m_isel_fancy(indexers, drop\u001b[39m=\u001b[39;49mdrop, missing_dims\u001b[39m=\u001b[39;49mmissing_dims)\n\u001b[1;32m   2410\u001b[0m \u001b[39m# Much faster algorithm for when all indexers are ints, slices, one-dimensional\u001b[39;00m\n\u001b[1;32m   2411\u001b[0m \u001b[39m# lists, or zero or one-dimensional np.ndarray's\u001b[39;00m\n\u001b[1;32m   2412\u001b[0m indexers \u001b[39m=\u001b[39m drop_dims_from_indexers(indexers, \u001b[39mself\u001b[39m\u001b[39m.\u001b[39mdims, missing_dims)\n",
      "File \u001b[0;32m~/.local/lib/python3.10/site-packages/xarray/core/dataset.py:2464\u001b[0m, in \u001b[0;36mDataset._isel_fancy\u001b[0;34m(self, indexers, drop, missing_dims)\u001b[0m\n\u001b[1;32m   2460\u001b[0m var_indexers \u001b[39m=\u001b[39m {\n\u001b[1;32m   2461\u001b[0m     k: v \u001b[39mfor\u001b[39;00m k, v \u001b[39min\u001b[39;00m valid_indexers\u001b[39m.\u001b[39mitems() \u001b[39mif\u001b[39;00m k \u001b[39min\u001b[39;00m var\u001b[39m.\u001b[39mdims\n\u001b[1;32m   2462\u001b[0m }\n\u001b[1;32m   2463\u001b[0m \u001b[39mif\u001b[39;00m var_indexers:\n\u001b[0;32m-> 2464\u001b[0m     new_var \u001b[39m=\u001b[39m var\u001b[39m.\u001b[39;49misel(indexers\u001b[39m=\u001b[39;49mvar_indexers)\n\u001b[1;32m   2465\u001b[0m     \u001b[39m# drop scalar coordinates\u001b[39;00m\n\u001b[1;32m   2466\u001b[0m     \u001b[39m# https://github.com/pydata/xarray/issues/6554\u001b[39;00m\n\u001b[1;32m   2467\u001b[0m     \u001b[39mif\u001b[39;00m name \u001b[39min\u001b[39;00m \u001b[39mself\u001b[39m\u001b[39m.\u001b[39mcoords \u001b[39mand\u001b[39;00m drop \u001b[39mand\u001b[39;00m new_var\u001b[39m.\u001b[39mndim \u001b[39m==\u001b[39m \u001b[39m0\u001b[39m:\n",
      "File \u001b[0;32m~/.local/lib/python3.10/site-packages/xarray/core/variable.py:1322\u001b[0m, in \u001b[0;36mVariable.isel\u001b[0;34m(self, indexers, missing_dims, **indexers_kwargs)\u001b[0m\n\u001b[1;32m   1319\u001b[0m indexers \u001b[39m=\u001b[39m drop_dims_from_indexers(indexers, \u001b[39mself\u001b[39m\u001b[39m.\u001b[39mdims, missing_dims)\n\u001b[1;32m   1321\u001b[0m key \u001b[39m=\u001b[39m \u001b[39mtuple\u001b[39m(indexers\u001b[39m.\u001b[39mget(dim, \u001b[39mslice\u001b[39m(\u001b[39mNone\u001b[39;00m)) \u001b[39mfor\u001b[39;00m dim \u001b[39min\u001b[39;00m \u001b[39mself\u001b[39m\u001b[39m.\u001b[39mdims)\n\u001b[0;32m-> 1322\u001b[0m \u001b[39mreturn\u001b[39;00m \u001b[39mself\u001b[39;49m[key]\n",
      "File \u001b[0;32m~/.local/lib/python3.10/site-packages/xarray/core/variable.py:869\u001b[0m, in \u001b[0;36mVariable.__getitem__\u001b[0;34m(self, key)\u001b[0m\n\u001b[1;32m    856\u001b[0m \u001b[39mdef\u001b[39;00m \u001b[39m__getitem__\u001b[39m(\u001b[39mself\u001b[39m: T_Variable, key) \u001b[39m-\u001b[39m\u001b[39m>\u001b[39m T_Variable:\n\u001b[1;32m    857\u001b[0m     \u001b[39m\"\"\"Return a new Variable object whose contents are consistent with\u001b[39;00m\n\u001b[1;32m    858\u001b[0m \u001b[39m    getting the provided key from the underlying data.\u001b[39;00m\n\u001b[1;32m    859\u001b[0m \n\u001b[0;32m   (...)\u001b[0m\n\u001b[1;32m    867\u001b[0m \u001b[39m    array `x.values` directly.\u001b[39;00m\n\u001b[1;32m    868\u001b[0m \u001b[39m    \"\"\"\u001b[39;00m\n\u001b[0;32m--> 869\u001b[0m     dims, indexer, new_order \u001b[39m=\u001b[39m \u001b[39mself\u001b[39;49m\u001b[39m.\u001b[39;49m_broadcast_indexes(key)\n\u001b[1;32m    870\u001b[0m     data \u001b[39m=\u001b[39m as_indexable(\u001b[39mself\u001b[39m\u001b[39m.\u001b[39m_data)[indexer]\n\u001b[1;32m    871\u001b[0m     \u001b[39mif\u001b[39;00m new_order:\n",
      "File \u001b[0;32m~/.local/lib/python3.10/site-packages/xarray/core/variable.py:710\u001b[0m, in \u001b[0;36mVariable._broadcast_indexes\u001b[0;34m(self, key)\u001b[0m\n\u001b[1;32m    705\u001b[0m key \u001b[39m=\u001b[39m \u001b[39mtuple\u001b[39m(\n\u001b[1;32m    706\u001b[0m     k\u001b[39m.\u001b[39mitem() \u001b[39mif\u001b[39;00m \u001b[39misinstance\u001b[39m(k, np\u001b[39m.\u001b[39mndarray) \u001b[39mand\u001b[39;00m k\u001b[39m.\u001b[39mndim \u001b[39m==\u001b[39m \u001b[39m0\u001b[39m \u001b[39melse\u001b[39;00m k \u001b[39mfor\u001b[39;00m k \u001b[39min\u001b[39;00m key\n\u001b[1;32m    707\u001b[0m )\n\u001b[1;32m    709\u001b[0m \u001b[39mif\u001b[39;00m \u001b[39mall\u001b[39m(\u001b[39misinstance\u001b[39m(k, BASIC_INDEXING_TYPES) \u001b[39mfor\u001b[39;00m k \u001b[39min\u001b[39;00m key):\n\u001b[0;32m--> 710\u001b[0m     \u001b[39mreturn\u001b[39;00m \u001b[39mself\u001b[39;49m\u001b[39m.\u001b[39;49m_broadcast_indexes_basic(key)\n\u001b[1;32m    712\u001b[0m \u001b[39mself\u001b[39m\u001b[39m.\u001b[39m_validate_indexers(key)\n\u001b[1;32m    713\u001b[0m \u001b[39m# Detect it can be mapped as an outer indexer\u001b[39;00m\n\u001b[1;32m    714\u001b[0m \u001b[39m# If all key is unlabeled, or\u001b[39;00m\n\u001b[1;32m    715\u001b[0m \u001b[39m# key can be mapped as an OuterIndexer.\u001b[39;00m\n",
      "File \u001b[0;32m~/.local/lib/python3.10/site-packages/xarray/core/variable.py:738\u001b[0m, in \u001b[0;36mVariable._broadcast_indexes_basic\u001b[0;34m(self, key)\u001b[0m\n\u001b[1;32m    734\u001b[0m \u001b[39mdef\u001b[39;00m \u001b[39m_broadcast_indexes_basic\u001b[39m(\u001b[39mself\u001b[39m, key):\n\u001b[1;32m    735\u001b[0m     dims \u001b[39m=\u001b[39m \u001b[39mtuple\u001b[39m(\n\u001b[1;32m    736\u001b[0m         dim \u001b[39mfor\u001b[39;00m k, dim \u001b[39min\u001b[39;00m \u001b[39mzip\u001b[39m(key, \u001b[39mself\u001b[39m\u001b[39m.\u001b[39mdims) \u001b[39mif\u001b[39;00m \u001b[39mnot\u001b[39;00m \u001b[39misinstance\u001b[39m(k, integer_types)\n\u001b[1;32m    737\u001b[0m     )\n\u001b[0;32m--> 738\u001b[0m     \u001b[39mreturn\u001b[39;00m dims, BasicIndexer(key), \u001b[39mNone\u001b[39;00m\n",
      "File \u001b[0;32m~/.local/lib/python3.10/site-packages/xarray/core/indexing.py:347\u001b[0m, in \u001b[0;36mBasicIndexer.__init__\u001b[0;34m(self, key)\u001b[0m\n\u001b[1;32m    342\u001b[0m         \u001b[39mraise\u001b[39;00m \u001b[39mTypeError\u001b[39;00m(\n\u001b[1;32m    343\u001b[0m             \u001b[39mf\u001b[39m\u001b[39m\"\u001b[39m\u001b[39munexpected indexer type for \u001b[39m\u001b[39m{\u001b[39;00m\u001b[39mtype\u001b[39m(\u001b[39mself\u001b[39m)\u001b[39m.\u001b[39m\u001b[39m__name__\u001b[39m\u001b[39m}\u001b[39;00m\u001b[39m: \u001b[39m\u001b[39m{\u001b[39;00mk\u001b[39m!r}\u001b[39;00m\u001b[39m\"\u001b[39m\n\u001b[1;32m    344\u001b[0m         )\n\u001b[1;32m    345\u001b[0m     new_key\u001b[39m.\u001b[39mappend(k)\n\u001b[0;32m--> 347\u001b[0m \u001b[39msuper\u001b[39;49m()\u001b[39m.\u001b[39;49m\u001b[39m__init__\u001b[39;49m(new_key)\n",
      "File \u001b[0;32m~/.local/lib/python3.10/site-packages/xarray/core/indexing.py:297\u001b[0m, in \u001b[0;36mExplicitIndexer.__init__\u001b[0;34m(self, key)\u001b[0m\n\u001b[1;32m    285\u001b[0m \u001b[39m\"\"\"Base class for explicit indexer objects.\u001b[39;00m\n\u001b[1;32m    286\u001b[0m \n\u001b[1;32m    287\u001b[0m \u001b[39mExplicitIndexer objects wrap a tuple of values given by their ``tuple``\u001b[39;00m\n\u001b[0;32m   (...)\u001b[0m\n\u001b[1;32m    292\u001b[0m \u001b[39msub-classes BasicIndexer, OuterIndexer or VectorizedIndexer.\u001b[39;00m\n\u001b[1;32m    293\u001b[0m \u001b[39m\"\"\"\u001b[39;00m\n\u001b[1;32m    295\u001b[0m \u001b[39m__slots__\u001b[39m \u001b[39m=\u001b[39m (\u001b[39m\"\u001b[39m\u001b[39m_key\u001b[39m\u001b[39m\"\u001b[39m,)\n\u001b[0;32m--> 297\u001b[0m \u001b[39mdef\u001b[39;00m \u001b[39m__init__\u001b[39m(\u001b[39mself\u001b[39m, key):\n\u001b[1;32m    298\u001b[0m     \u001b[39mif\u001b[39;00m \u001b[39mtype\u001b[39m(\u001b[39mself\u001b[39m) \u001b[39mis\u001b[39;00m ExplicitIndexer:\n\u001b[1;32m    299\u001b[0m         \u001b[39mraise\u001b[39;00m \u001b[39mTypeError\u001b[39;00m(\u001b[39m\"\u001b[39m\u001b[39mcannot instantiate base ExplicitIndexer objects\u001b[39m\u001b[39m\"\u001b[39m)\n",
      "\u001b[0;31mKeyboardInterrupt\u001b[0m: "
     ]
    }
   ],
   "source": [
    "\n",
    "for i in tqdm(range(10)):    \n",
    "    rollout = []\n",
    "    s = oce.start()\n",
    "    for j in range(2000):\n",
    "        a = random.choice(oce.legal_moves([]))\n",
    "        r, s_new = oce.next_state(s, a)\n",
    "\n",
    "        sars = [s, a, r, s_new]\n",
    "        rollout.append(sars)\n",
    "        s = s_new\n",
    "\n",
    "    trajs.append(rollout)"
   ]
  },
  {
   "cell_type": "code",
   "execution_count": 34,
   "id": "e1dfce92",
   "metadata": {},
   "outputs": [
    {
     "ename": "IndexError",
     "evalue": "list index out of range",
     "output_type": "error",
     "traceback": [
      "\u001b[0;31m---------------------------------------------------------------------------\u001b[0m",
      "\u001b[0;31mIndexError\u001b[0m                                Traceback (most recent call last)",
      "Cell \u001b[0;32mIn [34], line 1\u001b[0m\n\u001b[0;32m----> 1\u001b[0m trajs[\u001b[39m0\u001b[39;49m][\u001b[39m0\u001b[39m]\n",
      "\u001b[0;31mIndexError\u001b[0m: list index out of range"
     ]
    }
   ],
   "source": [
    "trajs[0][0]"
   ]
  },
  {
   "cell_type": "code",
   "execution_count": 35,
   "id": "55671627",
   "metadata": {},
   "outputs": [],
   "source": [
    "import matplotlib.pyplot as plt\n",
    "import pandas as pd\n",
    "import jax\n",
    "from jax import numpy as jnp"
   ]
  },
  {
   "cell_type": "code",
   "execution_count": 88,
   "id": "e129c803",
   "metadata": {},
   "outputs": [],
   "source": [
    "def plot_trajectory(traj):\n",
    "    xlims = [30,130] # longitude limits [deg]\n",
    "    ylims = [-40,0] # latitude limits [deg]\n",
    "    fig,ax = plt_utils.plt_utils.plt_base_simple(xlims,ylims,10,10) # create figure\n",
    "    plt.gcf().set_size_inches(13,6)\n",
    "    ax.set_title(\"Journey\")\n",
    "\n",
    "    trajstates = np.array(list(map(lambda x: [x[0].lat, x[0].lon], traj)))\n",
    "    lats, lons = trajstates[:,0], trajstates[:,1]\n",
    "    pltraj = ax.plot(lons, lats, '-')\n"
   ]
  },
  {
   "cell_type": "code",
   "execution_count": 37,
   "id": "a49a9084",
   "metadata": {},
   "outputs": [
    {
     "ename": "IndexError",
     "evalue": "list index out of range",
     "output_type": "error",
     "traceback": [
      "\u001b[0;31m---------------------------------------------------------------------------\u001b[0m",
      "\u001b[0;31mIndexError\u001b[0m                                Traceback (most recent call last)",
      "Cell \u001b[0;32mIn [37], line 3\u001b[0m\n\u001b[1;32m      1\u001b[0m reward_discount \u001b[39m=\u001b[39m \u001b[39m0.999\u001b[39m\n\u001b[1;32m      2\u001b[0m \u001b[39mfor\u001b[39;00m i \u001b[39min\u001b[39;00m \u001b[39mrange\u001b[39m(\u001b[39m4\u001b[39m):\n\u001b[0;32m----> 3\u001b[0m     reward \u001b[39m=\u001b[39m np\u001b[39m.\u001b[39mcumsum(np\u001b[39m.\u001b[39marray(\u001b[39mlist\u001b[39m(\u001b[39mmap\u001b[39m(\u001b[39mlambda\u001b[39;00m x: x[\u001b[39m2\u001b[39m], trajs[i]))) \u001b[39m*\u001b[39m np\u001b[39m.\u001b[39marray( [reward_discount\u001b[39m*\u001b[39m\u001b[39m*\u001b[39mi \u001b[39mfor\u001b[39;00m i \u001b[39min\u001b[39;00m \u001b[39mrange\u001b[39m(\u001b[39mlen\u001b[39m(trajs[i]))] ))\n\u001b[1;32m      4\u001b[0m     plt\u001b[39m.\u001b[39mplot(reward)\n",
      "\u001b[0;31mIndexError\u001b[0m: list index out of range"
     ]
    }
   ],
   "source": [
    "reward_discount = 0.999\n",
    "for i in range(4):\n",
    "    reward = np.cumsum(np.array(list(map(lambda x: x[2], trajs[i]))) * np.array( [reward_discount**i for i in range(len(trajs[i]))] ))\n",
    "    plt.plot(reward)\n",
    "\n"
   ]
  },
  {
   "cell_type": "code",
   "execution_count": 38,
   "id": "b5a896ef",
   "metadata": {},
   "outputs": [
    {
     "data": {
      "text/plain": [
       "array([0.1  , 0.02 , 0.003])"
      ]
     },
     "execution_count": 38,
     "metadata": {},
     "output_type": "execute_result"
    }
   ],
   "source": [
    "np.array([1,2,3]) * np.array([0.1, 0.01, 0.001])"
   ]
  },
  {
   "cell_type": "code",
   "execution_count": 39,
   "id": "747a3922",
   "metadata": {},
   "outputs": [],
   "source": [
    "from collections import deque, namedtuple\n",
    "\n",
    "Transition = namedtuple('Transition',\n",
    "                        ('state', 'action', 'next_state', 'reward'))\n",
    "\n",
    "class ReplayMemory(object):\n",
    "\n",
    "    def __init__(self, capacity):\n",
    "        self.memory = deque([],maxlen=capacity)\n",
    "\n",
    "    def push(self, *args):\n",
    "        \"\"\"Save a transition\"\"\"\n",
    "        self.memory.append(Transition(*args))\n",
    "\n",
    "    def sample(self, batch_size):\n",
    "        return random.sample(self.memory, batch_size)\n",
    "\n",
    "    def __len__(self):\n",
    "        return len(self.memory)"
   ]
  },
  {
   "cell_type": "code",
   "execution_count": 40,
   "id": "408039e3",
   "metadata": {},
   "outputs": [],
   "source": [
    "import math\n",
    "import torch\n",
    "import torch.nn as nn\n",
    "import torch.optim as optim\n",
    "import torch.nn.functional as F\n",
    "import torchvision.transforms as T\n"
   ]
  },
  {
   "cell_type": "code",
   "execution_count": 41,
   "id": "9f7ec839",
   "metadata": {},
   "outputs": [],
   "source": [
    "class DQN(nn.Module):\n",
    "    def __init__(self, state_dim, output_count):\n",
    "        super(DQN, self).__init__()\n",
    "\n",
    "        self.dense1 = nn.Linear(state_dim, 32)\n",
    "        self.dense2 = nn.Linear(32, 32)\n",
    "        self.dense3 = nn.Linear(32, output_count)\n",
    "\n",
    "    def forward(self, x):\n",
    "        x = F.relu(self.dense1(x))\n",
    "        x = F.relu(self.dense2(x))\n",
    "        x = self.dense3(x)\n",
    "        return F.log_softmax(x)\n",
    "\n",
    "\n",
    "      "
   ]
  },
  {
   "cell_type": "code",
   "execution_count": 42,
   "id": "0bec6834",
   "metadata": {},
   "outputs": [],
   "source": [
    " \n",
    "device = torch.device(\"cuda\" if torch.cuda.is_available() else \"cpu\") "
   ]
  },
  {
   "cell_type": "code",
   "execution_count": 81,
   "id": "ad9da0ce",
   "metadata": {},
   "outputs": [],
   "source": [
    "BATCH_SIZE = 128\n",
    "GAMMA = 0.999\n",
    "EPS_START = 0.9\n",
    "EPS_END = 0.05\n",
    "EPS_DECAY = 200\n",
    "TARGET_UPDATE = 10\n",
    "\n",
    "n_actions = 38\n",
    "\n",
    "policy_net = DQN(2, n_actions).to(device)\n",
    "target_net = DQN(2, n_actions).to(device)\n",
    "target_net.load_state_dict(policy_net.state_dict())\n",
    "target_net.eval()\n",
    "\n",
    "optimiser = optim.RMSprop(policy_net.parameters())\n",
    "\n",
    "steps_done = 0\n",
    "\n",
    "def select_action(state):\n",
    "    global steps_done\n",
    "    sample = random.random()\n",
    "    eps_threshold = EPS_END + (EPS_START - EPS_END) * \\\n",
    "        math.exp(-1. * steps_done / EPS_DECAY)\n",
    "    steps_done += 1\n",
    "    if sample > eps_threshold:\n",
    "        with torch.no_grad():\n",
    "            obs = torch.tensor([state.lat, state.lon], dtype = torch.float32).to(device)\n",
    "            pred = policy_net(obs)\n",
    "            return pred.min(0)[1].view(1, 1)\n",
    "    else:\n",
    "        return torch.tensor([[random.randrange(n_actions)]], device=device, dtype=torch.long)"
   ]
  },
  {
   "cell_type": "code",
   "execution_count": 101,
   "id": "5d39f453",
   "metadata": {},
   "outputs": [],
   "source": [
    "memory = ReplayMemory(10000)\n",
    "def optimise_model():\n",
    "    if len(memory) < BATCH_SIZE:\n",
    "        return\n",
    "    \n",
    "    transitions = memory.sample(BATCH_SIZE)\n",
    "\n",
    "    batch = Transition(*zip(*transitions))\n",
    "    non_final_mask = torch.tensor(tuple(map(lambda s: s is not None,\n",
    "                                          batch.next_state)), device=device, dtype=torch.bool)\n",
    "    \n",
    "    non_final_next_states = torch.cat([s for s in batch.next_state\n",
    "                                                if s is not None])\n",
    "\n",
    "    state_batch = torch.cat(batch.state)\n",
    "    action_batch = torch.cat(batch.action)\n",
    "    reward_batch = torch.cat(batch.reward)\n",
    "\n",
    "    state_action_values = policy_net(state_batch).gather(1, action_batch)\n",
    "\n",
    "    next_state_values = torch.zeros(BATCH_SIZE, device=device)\n",
    "    next_state_values[non_final_mask] = target_net(non_final_next_states).max(1)[0].detach()\n",
    "    expected_state_action_values = (next_state_values * GAMMA) + reward_batch\n",
    "\n",
    "    criterion = nn.NLLLoss()\n",
    "    loss = criterion(state_action_values, expected_state_action_values.unsqueeze(1))\n",
    "\n",
    "    optimiser.zero_grad()\n",
    "    loss.backward()\n",
    "    for param in policy_net.parameters():\n",
    "        param.grad.data.clamp_(-1, 1)\n",
    "    optimiser.step()\n"
   ]
  },
  {
   "cell_type": "code",
   "execution_count": 102,
   "id": "b5f6987d",
   "metadata": {},
   "outputs": [
    {
     "name": "stderr",
     "output_type": "stream",
     "text": [
      "/tmp/ipykernel_42345/3828892082.py:13: UserWarning: Implicit dimension choice for log_softmax has been deprecated. Change the call to include dim=X as an argument.\n",
      "  return F.log_softmax(x)\n"
     ]
    },
    {
     "ename": "RuntimeError",
     "evalue": "mat1 and mat2 shapes cannot be multiplied (1x256 and 2x32)",
     "output_type": "error",
     "traceback": [
      "\u001b[0;31m---------------------------------------------------------------------------\u001b[0m",
      "\u001b[0;31mRuntimeError\u001b[0m                              Traceback (most recent call last)",
      "Cell \u001b[0;32mIn [102], line 25\u001b[0m\n\u001b[1;32m     21\u001b[0m memory\u001b[39m.\u001b[39mpush(torch\u001b[39m.\u001b[39mtensor([s\u001b[39m.\u001b[39mlat, s\u001b[39m.\u001b[39mlon]), a_indx, torch\u001b[39m.\u001b[39mtensor([s_new\u001b[39m.\u001b[39mlat, s_new\u001b[39m.\u001b[39mlon]), reward)\n\u001b[1;32m     23\u001b[0m s \u001b[39m=\u001b[39m s_new\n\u001b[0;32m---> 25\u001b[0m optimise_model()\n\u001b[1;32m     27\u001b[0m \u001b[39mif\u001b[39;00m j \u001b[39m%\u001b[39m TARGET_UPDATE \u001b[39m==\u001b[39m \u001b[39m0\u001b[39m:\n\u001b[1;32m     28\u001b[0m     target_net\u001b[39m.\u001b[39mload_state_dict(policy_net\u001b[39m.\u001b[39mstate_dict())\n",
      "Cell \u001b[0;32mIn [101], line 19\u001b[0m, in \u001b[0;36moptimise_model\u001b[0;34m()\u001b[0m\n\u001b[1;32m     16\u001b[0m action_batch \u001b[39m=\u001b[39m torch\u001b[39m.\u001b[39mcat(batch\u001b[39m.\u001b[39maction)\n\u001b[1;32m     17\u001b[0m reward_batch \u001b[39m=\u001b[39m torch\u001b[39m.\u001b[39mcat(batch\u001b[39m.\u001b[39mreward)\n\u001b[0;32m---> 19\u001b[0m state_action_values \u001b[39m=\u001b[39m policy_net(state_batch)\u001b[39m.\u001b[39mgather(\u001b[39m1\u001b[39m, action_batch)\n\u001b[1;32m     21\u001b[0m next_state_values \u001b[39m=\u001b[39m torch\u001b[39m.\u001b[39mzeros(BATCH_SIZE, device\u001b[39m=\u001b[39mdevice)\n\u001b[1;32m     22\u001b[0m next_state_values[non_final_mask] \u001b[39m=\u001b[39m target_net(non_final_next_states)\u001b[39m.\u001b[39mmax(\u001b[39m1\u001b[39m)[\u001b[39m0\u001b[39m]\u001b[39m.\u001b[39mdetach()\n",
      "File \u001b[0;32m~/.local/lib/python3.10/site-packages/torch/nn/modules/module.py:1190\u001b[0m, in \u001b[0;36mModule._call_impl\u001b[0;34m(self, *input, **kwargs)\u001b[0m\n\u001b[1;32m   1186\u001b[0m \u001b[39m# If we don't have any hooks, we want to skip the rest of the logic in\u001b[39;00m\n\u001b[1;32m   1187\u001b[0m \u001b[39m# this function, and just call forward.\u001b[39;00m\n\u001b[1;32m   1188\u001b[0m \u001b[39mif\u001b[39;00m \u001b[39mnot\u001b[39;00m (\u001b[39mself\u001b[39m\u001b[39m.\u001b[39m_backward_hooks \u001b[39mor\u001b[39;00m \u001b[39mself\u001b[39m\u001b[39m.\u001b[39m_forward_hooks \u001b[39mor\u001b[39;00m \u001b[39mself\u001b[39m\u001b[39m.\u001b[39m_forward_pre_hooks \u001b[39mor\u001b[39;00m _global_backward_hooks\n\u001b[1;32m   1189\u001b[0m         \u001b[39mor\u001b[39;00m _global_forward_hooks \u001b[39mor\u001b[39;00m _global_forward_pre_hooks):\n\u001b[0;32m-> 1190\u001b[0m     \u001b[39mreturn\u001b[39;00m forward_call(\u001b[39m*\u001b[39;49m\u001b[39minput\u001b[39;49m, \u001b[39m*\u001b[39;49m\u001b[39m*\u001b[39;49mkwargs)\n\u001b[1;32m   1191\u001b[0m \u001b[39m# Do not call functions when jit is used\u001b[39;00m\n\u001b[1;32m   1192\u001b[0m full_backward_hooks, non_full_backward_hooks \u001b[39m=\u001b[39m [], []\n",
      "Cell \u001b[0;32mIn [41], line 10\u001b[0m, in \u001b[0;36mDQN.forward\u001b[0;34m(self, x)\u001b[0m\n\u001b[1;32m      9\u001b[0m \u001b[39mdef\u001b[39;00m \u001b[39mforward\u001b[39m(\u001b[39mself\u001b[39m, x):\n\u001b[0;32m---> 10\u001b[0m     x \u001b[39m=\u001b[39m F\u001b[39m.\u001b[39mrelu(\u001b[39mself\u001b[39;49m\u001b[39m.\u001b[39;49mdense1(x))\n\u001b[1;32m     11\u001b[0m     x \u001b[39m=\u001b[39m F\u001b[39m.\u001b[39mrelu(\u001b[39mself\u001b[39m\u001b[39m.\u001b[39mdense2(x))\n\u001b[1;32m     12\u001b[0m     x \u001b[39m=\u001b[39m \u001b[39mself\u001b[39m\u001b[39m.\u001b[39mdense3(x)\n",
      "File \u001b[0;32m~/.local/lib/python3.10/site-packages/torch/nn/modules/module.py:1190\u001b[0m, in \u001b[0;36mModule._call_impl\u001b[0;34m(self, *input, **kwargs)\u001b[0m\n\u001b[1;32m   1186\u001b[0m \u001b[39m# If we don't have any hooks, we want to skip the rest of the logic in\u001b[39;00m\n\u001b[1;32m   1187\u001b[0m \u001b[39m# this function, and just call forward.\u001b[39;00m\n\u001b[1;32m   1188\u001b[0m \u001b[39mif\u001b[39;00m \u001b[39mnot\u001b[39;00m (\u001b[39mself\u001b[39m\u001b[39m.\u001b[39m_backward_hooks \u001b[39mor\u001b[39;00m \u001b[39mself\u001b[39m\u001b[39m.\u001b[39m_forward_hooks \u001b[39mor\u001b[39;00m \u001b[39mself\u001b[39m\u001b[39m.\u001b[39m_forward_pre_hooks \u001b[39mor\u001b[39;00m _global_backward_hooks\n\u001b[1;32m   1189\u001b[0m         \u001b[39mor\u001b[39;00m _global_forward_hooks \u001b[39mor\u001b[39;00m _global_forward_pre_hooks):\n\u001b[0;32m-> 1190\u001b[0m     \u001b[39mreturn\u001b[39;00m forward_call(\u001b[39m*\u001b[39;49m\u001b[39minput\u001b[39;49m, \u001b[39m*\u001b[39;49m\u001b[39m*\u001b[39;49mkwargs)\n\u001b[1;32m   1191\u001b[0m \u001b[39m# Do not call functions when jit is used\u001b[39;00m\n\u001b[1;32m   1192\u001b[0m full_backward_hooks, non_full_backward_hooks \u001b[39m=\u001b[39m [], []\n",
      "File \u001b[0;32m~/.local/lib/python3.10/site-packages/torch/nn/modules/linear.py:114\u001b[0m, in \u001b[0;36mLinear.forward\u001b[0;34m(self, input)\u001b[0m\n\u001b[1;32m    113\u001b[0m \u001b[39mdef\u001b[39;00m \u001b[39mforward\u001b[39m(\u001b[39mself\u001b[39m, \u001b[39minput\u001b[39m: Tensor) \u001b[39m-\u001b[39m\u001b[39m>\u001b[39m Tensor:\n\u001b[0;32m--> 114\u001b[0m     \u001b[39mreturn\u001b[39;00m F\u001b[39m.\u001b[39;49mlinear(\u001b[39minput\u001b[39;49m, \u001b[39mself\u001b[39;49m\u001b[39m.\u001b[39;49mweight, \u001b[39mself\u001b[39;49m\u001b[39m.\u001b[39;49mbias)\n",
      "\u001b[0;31mRuntimeError\u001b[0m: mat1 and mat2 shapes cannot be multiplied (1x256 and 2x32)"
     ]
    }
   ],
   "source": [
    "num_episodes = 1\n",
    "\n",
    "def action_index_to_action(indx):\n",
    "    if 0 <= indx < 36:\n",
    "        return Action(True, phi = indx * 10)\n",
    "    elif indx == 36:\n",
    "        return Action(False, anchor = False)\n",
    "    elif indx == 37:\n",
    "        return Action(False, anchor = True)\n",
    "\n",
    "for i_episode in range(num_episodes):\n",
    "    rollout = []\n",
    "    s = oce.start()\n",
    "    for j in range(1000):\n",
    "        a_indx = select_action(s)\n",
    "        a = action_index_to_action(a_indx.item())\n",
    "        r, s_new = oce.next_state(s, a)\n",
    "    \n",
    "        reward = torch.tensor([r], device=device)\n",
    "\n",
    "        memory.push(torch.tensor([s.lat, s.lon]), a_indx, torch.tensor([s_new.lat, s_new.lon]), reward)\n",
    "        \n",
    "        s = s_new\n",
    "\n",
    "        optimise_model()\n",
    "\n",
    "        if j % TARGET_UPDATE == 0:\n",
    "            target_net.load_state_dict(policy_net.state_dict())4\n",
    "        rollout.append(sars)\n",
    "        \n",
    "\n",
    "    trajs.append(rollout)"
   ]
  },
  {
   "cell_type": "code",
   "execution_count": null,
   "id": "307c780f",
   "metadata": {},
   "outputs": [
    {
     "data": {
      "text/plain": [
       "[]"
      ]
     },
     "execution_count": 95,
     "metadata": {},
     "output_type": "execute_result"
    }
   ],
   "source": [
    "rollout"
   ]
  },
  {
   "cell_type": "code",
   "execution_count": 96,
   "id": "9156a547",
   "metadata": {},
   "outputs": [
    {
     "ename": "IndexError",
     "evalue": "too many indices for array: array is 1-dimensional, but 2 were indexed",
     "output_type": "error",
     "traceback": [
      "\u001b[0;31m---------------------------------------------------------------------------\u001b[0m",
      "\u001b[0;31mIndexError\u001b[0m                                Traceback (most recent call last)",
      "Cell \u001b[0;32mIn [96], line 1\u001b[0m\n\u001b[0;32m----> 1\u001b[0m plot_trajectory(rollout)\n",
      "Cell \u001b[0;32mIn [88], line 9\u001b[0m, in \u001b[0;36mplot_trajectory\u001b[0;34m(traj)\u001b[0m\n\u001b[1;32m      6\u001b[0m ax\u001b[39m.\u001b[39mset_title(\u001b[39m\"\u001b[39m\u001b[39mJourney\u001b[39m\u001b[39m\"\u001b[39m)\n\u001b[1;32m      8\u001b[0m trajstates \u001b[39m=\u001b[39m np\u001b[39m.\u001b[39marray(\u001b[39mlist\u001b[39m(\u001b[39mmap\u001b[39m(\u001b[39mlambda\u001b[39;00m x: [x[\u001b[39m0\u001b[39m]\u001b[39m.\u001b[39mlat, x[\u001b[39m0\u001b[39m]\u001b[39m.\u001b[39mlon], traj)))\n\u001b[0;32m----> 9\u001b[0m lats, lons \u001b[39m=\u001b[39m trajstates[:,\u001b[39m0\u001b[39;49m], trajstates[:,\u001b[39m1\u001b[39m]\n\u001b[1;32m     10\u001b[0m pltraj \u001b[39m=\u001b[39m ax\u001b[39m.\u001b[39mplot(lons, lats, \u001b[39m'\u001b[39m\u001b[39m-\u001b[39m\u001b[39m'\u001b[39m)\n",
      "\u001b[0;31mIndexError\u001b[0m: too many indices for array: array is 1-dimensional, but 2 were indexed"
     ]
    },
    {
     "data": {
      "image/png": "[encoded data removed]",
      "text/plain": [
       "<Figure size 1300x600 with 1 Axes>"
      ]
     },
     "metadata": {},
     "output_type": "display_data"
    }
   ],
   "source": [
    "\n",
    "plot_trajectory(rollout)"
   ]
  },
  {
   "cell_type": "code",
   "execution_count": null,
   "id": "88c0e092",
   "metadata": {},
   "outputs": [],
   "source": []
  }
 ],
 "metadata": {
  "kernelspec": {
   "display_name": "Python 3 (ipykernel)",
   "language": "python",
   "name": "python3"
  },
  "language_info": {
   "codemirror_mode": {
    "name": "ipython",
    "version": 3
   },
   "file_extension": ".py",
   "mimetype": "text/x-python",
   "name": "python",
   "nbconvert_exporter": "python",
   "pygments_lexer": "ipython3",
   "version": "3.10.7"
  },
  "vscode": {
   "interpreter": {
    "hash": "916dbcbb3f70747c44a77c7bcd40155683ae19c65e1c03b4aa3499c5328201f1"
   }
  }
 },
 "nbformat": 4,
 "nbformat_minor": 5
}
