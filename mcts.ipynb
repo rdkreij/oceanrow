{
 "cells": [
  {
   "cell_type": "code",
   "execution_count": 45,
   "id": "b3ce185a-ba33-4efa-933e-c3b1d2d19b79",
   "metadata": {},
   "outputs": [],
   "source": [
    "# import ocean row module\n",
    "from mod_ocean_row import ocean_row, parameter_sweeper\n",
    "import xarray as xr\n",
    "# # reload package\n",
    "import importlib\n",
    "import mod_ocean_row\n",
    "importlib.reload(mod_ocean_row)\n",
    "from mod_ocean_row import ocean_row"
   ]
  },
  {
   "cell_type": "code",
   "execution_count": 40,
   "id": "d3b3a5c0-ac02-4f1a-bb98-88d14d1e0ccf",
   "metadata": {},
   "outputs": [],
   "source": [
    "def create_config():\n",
    "    # create dictionary of starting location\n",
    "    # Dsloc = {'start_name':'Fremantle'    ,'start_lat':-32.056946,'start_lon':115.743889}\n",
    "    # Dsloc = {'start_name':'Geraldton'    ,'start_lat':-28.782387,'start_lon':114.607513} \n",
    "    Dsloc = {'start_name':'Kalbarri'     ,'start_lat':-27.711053,'start_lon':114.164536} \n",
    "    # Dsloc = {'start_name':'Carnarvon'    ,'start_lat':-24.883717,'start_lon':113.656956} \n",
    "    # Dsloc = {'start_name':'Exmouth'      ,'start_lat':-21.930724,'start_lon':114.122389} \n",
    "    # Dsloc = {'start_name':'Broome'       ,'start_lat':-17.951221,'start_lon':122.244327} \n",
    "\n",
    "    # create dictionary of destination location\n",
    "    Deloc = {'stop_name':'Dar es Salaam' ,'stop_lat':-6.766305  ,'stop_lon':39.195973  } # create dictionary of destination location\n",
    "\n",
    "    # date and time\n",
    "    tod_0     = '2018-05-01 03:00:00' # starting datetime\n",
    "    tod_start = ['06:00:00','14:00:00'] # start rowing [time of day]\n",
    "    tod_stop  = ['12:00:00','20:00:00'] # stop rowing [time of day]\n",
    "    Dtime     = {'tod_0':tod_0,'tod_start':tod_start,'tod_stop':tod_stop} # create dictionary\n",
    "\n",
    "    # rowing properties\n",
    "    m     = 670 # wiegth [kg]\n",
    "\n",
    "    # convert m/s to kts\n",
    "    tokts = 1.94384449 # convert m/s to kts\n",
    "\n",
    "    # rowing speed perfect conditions\n",
    "    vperf = 1.7/tokts # boat velocity in perfect conditions [m/s]\n",
    "\n",
    "    # water friction - boat\n",
    "    rhow  = 1024 # density water [kg/m^3]\n",
    "    Aw    = 15 # frontal area exposed to water\n",
    "    Cdw   = 0.005 # friction coef. water \n",
    "    Gw    = rhow*Cdw*Aw/2 # water friction constant\n",
    "\n",
    "    # water friction - anchor\n",
    "    GwA   = 50*Gw # water friction constant sea anchor\n",
    "\n",
    "    # friction ratio boat\n",
    "    G     = .01 # ratio of air friction cosntant to water friction constant (Ga/Gw)\n",
    "\n",
    "    # air friction \n",
    "    Ga    = G*Gw # air friction constant\n",
    "\n",
    "    Drow_prop = {'m':m,'vperf':vperf,'Gw':Gw,'GwA':GwA,'Ga':Ga} # create dictionary of all rowing properties\n",
    "\n",
    "    # combine all configurations\n",
    "    mcf = Dsloc | Deloc | Drow_prop | Dtime # model configuration (as dictionary)\n",
    "    return mcf\n",
    "\n",
    "def load_hindcast():\n",
    "\n",
    "    # air velocity (wind)\n",
    "    dsa0 = xr.open_dataset(r'./Data/CERSAT-GLO-REP_WIND_L4-OBS_FULL_TIME_SERIE_1648775425193.nc').load()\n",
    "    dsa  = xr.Dataset(\n",
    "        data_vars=dict(\n",
    "            # correct wind dataset (wrong direction of winds)\n",
    "            ua  = ([\"time\", \"lat\", \"lon\"], dsa0.eastward_wind.isel(depth=0).values),\n",
    "            va  = ([\"time\", \"lat\", \"lon\"], dsa0.northward_wind.isel(depth=0).values)),\n",
    "        coords=dict(\n",
    "            lon  = dsa0.longitude.values,\n",
    "            lat  = dsa0.latitude.values,\n",
    "            time = dsa0.time.values))\n",
    "\n",
    "    # water velocity (currents)\n",
    "    dsw0 = xr.open_dataset(r'./Data/nemo_monthly_mean.nc').load()\n",
    "    dsw  = xr.Dataset(\n",
    "        data_vars=dict(\n",
    "            uw  = ([\"time\", \"lat\", \"lon\"], dsw0.uo.isel(depth=0).values),\n",
    "            vw  = ([\"time\", \"lat\", \"lon\"], dsw0.vo.isel(depth=0).values),\n",
    "            Tw  = ([\"time\", \"lat\", \"lon\"], dsw0.thetao.isel(depth=0).values)),\n",
    "        coords=dict(\n",
    "            lon  = dsw0.longitude.values,\n",
    "            lat  = dsw0.latitude.values,\n",
    "            time = dsw0.time.values))\n",
    "\n",
    "    # wave heights \n",
    "    dswh0 = xr.open_dataset(r'./Data/cmems_obs-wave_glo_phy-swh_my_multi-l4-2deg_P1D_1648776708969.nc').load()\n",
    "    dswh  = xr.Dataset(\n",
    "        data_vars=dict(\n",
    "            # correct wind dataset (wrong direction of winds)\n",
    "            H_day_mean = ([\"time\", \"lat\", \"lon\"], dswh0.VAVH_DAILY_MEAN.values),\n",
    "            H_day_max  = ([\"time\", \"lat\", \"lon\"], dswh0.VAVH_DAILY_MAX.values)),\n",
    "        coords=dict(\n",
    "            lon  = dswh0.longitude.values,\n",
    "            lat  = dswh0.latitude.values,\n",
    "            time = dswh0.time.values))\n",
    "\n",
    "    hc = {'dsa':dsa,'dsw':dsw,'dswh':dswh} # create single dictonary of all datasets\n",
    "    return hc\n",
    "\n",
    "\n"
   ]
  },
  {
   "cell_type": "code",
   "execution_count": 41,
   "id": "29402a5a-cbb4-43d9-8792-c2eeebf00b18",
   "metadata": {},
   "outputs": [],
   "source": [
    "\n",
    "hc = load_hindcast()"
   ]
  },
  {
   "cell_type": "code",
   "execution_count": 46,
   "id": "9f572d7a-eca8-415d-83b8-5d212f602849",
   "metadata": {},
   "outputs": [
    {
     "data": {
      "text/plain": [
       "(array([[-3.06999993,  1.8499999 ]]), array([[0., 0.]]))"
      ]
     },
     "execution_count": 46,
     "metadata": {},
     "output_type": "execute_result"
    }
   ],
   "source": [
    "mcf = create_config()\n",
    "row = ocean_row(mcf)\n",
    "row.mcts(hc, 90, 5, 200000, 10000000)"
   ]
  },
  {
   "cell_type": "code",
   "execution_count": null,
   "id": "865ee558-d78b-4854-a7a8-b99981071467",
   "metadata": {},
   "outputs": [],
   "source": []
  },
  {
   "cell_type": "code",
   "execution_count": null,
   "id": "d02f32c3-179f-47b6-aefd-4da3e89d18dc",
   "metadata": {},
   "outputs": [],
   "source": [
    "("
   ]
  }
 ],
 "metadata": {
  "kernelspec": {
   "display_name": "Python 3 (ipykernel)",
   "language": "python",
   "name": "python3"
  },
  "language_info": {
   "codemirror_mode": {
    "name": "ipython",
    "version": 3
   },
   "file_extension": ".py",
   "mimetype": "text/x-python",
   "name": "python",
   "nbconvert_exporter": "python",
   "pygments_lexer": "ipython3",
   "version": "3.10.7"
  }
 },
 "nbformat": 4,
 "nbformat_minor": 5
}
